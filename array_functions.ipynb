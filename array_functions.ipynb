{
 "cells": [
  {
   "cell_type": "markdown",
   "id": "7373e958-70a8-44df-8124-a8ac8a606644",
   "metadata": {},
   "source": [
    "# Spark Array Functions"
   ]
  },
  {
   "cell_type": "markdown",
   "id": "4bce1b47-09be-44e3-b800-2583ab04a92f",
   "metadata": {},
   "source": [
    "### Initialise Spark"
   ]
  },
  {
   "cell_type": "code",
   "execution_count": 1,
   "id": "7a068548-1b41-4429-84a9-b94ef2e4053c",
   "metadata": {},
   "outputs": [
    {
     "data": {
      "text/plain": [
       "\u001b[32mimport \u001b[39m\u001b[36m$ivy.$\u001b[39m"
      ]
     },
     "execution_count": 1,
     "metadata": {},
     "output_type": "execute_result"
    }
   ],
   "source": [
    "import $ivy.`org.apache.spark::spark-sql:3.5.5`"
   ]
  },
  {
   "cell_type": "code",
   "execution_count": 2,
   "id": "1cfbe07f-4fec-47ea-a8a8-4c0a36bc3bc2",
   "metadata": {},
   "outputs": [
    {
     "name": "stderr",
     "output_type": "stream",
     "text": [
      "Using Spark's default log4j profile: org/apache/spark/log4j2-defaults.properties\n",
      "25/03/18 23:32:25 INFO SparkContext: Running Spark version 3.5.5\n",
      "25/03/18 23:32:25 INFO SparkContext: OS info Mac OS X, 15.3.1, aarch64\n",
      "25/03/18 23:32:25 INFO SparkContext: Java version 11.0.25\n",
      "25/03/18 23:32:25 WARN NativeCodeLoader: Unable to load native-hadoop library for your platform... using builtin-java classes where applicable\n",
      "25/03/18 23:32:25 INFO ResourceUtils: ==============================================================\n",
      "25/03/18 23:32:25 INFO ResourceUtils: No custom resources configured for spark.driver.\n",
      "25/03/18 23:32:25 INFO ResourceUtils: ==============================================================\n",
      "25/03/18 23:32:25 INFO SparkContext: Submitted application: Array Functions\n",
      "25/03/18 23:32:25 INFO ResourceProfile: Default ResourceProfile created, executor resources: Map(cores -> name: cores, amount: 1, script: , vendor: , memory -> name: memory, amount: 1024, script: , vendor: , offHeap -> name: offHeap, amount: 0, script: , vendor: ), task resources: Map(cpus -> name: cpus, amount: 1.0)\n",
      "25/03/18 23:32:25 INFO ResourceProfile: Limiting resource is cpu\n",
      "25/03/18 23:32:25 INFO ResourceProfileManager: Added ResourceProfile id: 0\n",
      "25/03/18 23:32:26 INFO SecurityManager: Changing view acls to: u0r00ar\n",
      "25/03/18 23:32:26 INFO SecurityManager: Changing modify acls to: u0r00ar\n",
      "25/03/18 23:32:26 INFO SecurityManager: Changing view acls groups to: \n",
      "25/03/18 23:32:26 INFO SecurityManager: Changing modify acls groups to: \n",
      "25/03/18 23:32:26 INFO SecurityManager: SecurityManager: authentication disabled; ui acls disabled; users with view permissions: u0r00ar; groups with view permissions: EMPTY; users with modify permissions: u0r00ar; groups with modify permissions: EMPTY\n",
      "25/03/18 23:32:26 INFO Utils: Successfully started service 'sparkDriver' on port 51633.\n",
      "25/03/18 23:32:26 INFO SparkEnv: Registering MapOutputTracker\n",
      "25/03/18 23:32:26 INFO SparkEnv: Registering BlockManagerMaster\n",
      "25/03/18 23:32:26 INFO BlockManagerMasterEndpoint: Using org.apache.spark.storage.DefaultTopologyMapper for getting topology information\n",
      "25/03/18 23:32:26 INFO BlockManagerMasterEndpoint: BlockManagerMasterEndpoint up\n",
      "25/03/18 23:32:26 INFO SparkEnv: Registering BlockManagerMasterHeartbeat\n",
      "25/03/18 23:32:26 INFO DiskBlockManager: Created local directory at /private/var/folders/xh/06hm_9cn4pq72v59zm3nfmqh0000gp/T/blockmgr-968e7f8b-5e66-409b-b984-2b77cd693010\n",
      "25/03/18 23:32:26 INFO MemoryStore: MemoryStore started with capacity 7.0 GiB\n",
      "25/03/18 23:32:26 INFO SparkEnv: Registering OutputCommitCoordinator\n",
      "25/03/18 23:32:26 INFO JettyUtils: Start Jetty 0.0.0.0:4040 for SparkUI\n",
      "25/03/18 23:32:26 INFO Utils: Successfully started service 'SparkUI' on port 4040.\n",
      "25/03/18 23:32:26 INFO Executor: Starting executor ID driver on host 192.168.0.107\n",
      "25/03/18 23:32:26 INFO Executor: OS info Mac OS X, 15.3.1, aarch64\n",
      "25/03/18 23:32:26 INFO Executor: Java version 11.0.25\n",
      "25/03/18 23:32:26 INFO Executor: Starting executor with user classpath (userClassPathFirst = false): ''\n",
      "25/03/18 23:32:26 INFO Executor: Created or updated repl class loader org.apache.spark.util.MutableURLClassLoader@573144a3 for default.\n",
      "25/03/18 23:32:26 INFO Utils: Successfully started service 'org.apache.spark.network.netty.NettyBlockTransferService' on port 51634.\n",
      "25/03/18 23:32:26 INFO NettyBlockTransferService: Server created on 192.168.0.107:51634\n",
      "25/03/18 23:32:26 INFO BlockManager: Using org.apache.spark.storage.RandomBlockReplicationPolicy for block replication policy\n",
      "25/03/18 23:32:26 INFO BlockManagerMaster: Registering BlockManager BlockManagerId(driver, 192.168.0.107, 51634, None)\n",
      "25/03/18 23:32:26 INFO BlockManagerMasterEndpoint: Registering block manager 192.168.0.107:51634 with 7.0 GiB RAM, BlockManagerId(driver, 192.168.0.107, 51634, None)\n",
      "25/03/18 23:32:26 INFO BlockManagerMaster: Registered BlockManager BlockManagerId(driver, 192.168.0.107, 51634, None)\n",
      "25/03/18 23:32:26 INFO BlockManager: Initialized BlockManager: BlockManagerId(driver, 192.168.0.107, 51634, None)\n"
     ]
    },
    {
     "data": {
      "text/plain": [
       "\u001b[32mimport \u001b[39m\u001b[36morg.apache.spark.sql.{SparkSession, functions}\u001b[39m\n",
       "\u001b[36mspark\u001b[39m: \u001b[32mSparkSession\u001b[39m = org.apache.spark.sql.SparkSession@6504f49c\n",
       "\u001b[32mimport \u001b[39m\u001b[36mspark.implicits._\u001b[39m"
      ]
     },
     "execution_count": 2,
     "metadata": {},
     "output_type": "execute_result"
    }
   ],
   "source": [
    "import org.apache.spark.sql.{SparkSession, functions}\n",
    "\n",
    "val spark = SparkSession.builder()\n",
    "  .appName(\"Array Functions\")\n",
    "  .config(\"spark.master\", \"local\")\n",
    "  .getOrCreate()\n",
    "\n",
    "import spark.implicits._"
   ]
  },
  {
   "cell_type": "markdown",
   "id": "3b7cc3f3-e968-41b5-94eb-e94c77678a91",
   "metadata": {},
   "source": [
    "### functions.array()"
   ]
  },
  {
   "cell_type": "markdown",
   "id": "99a1a4f3-ee8b-44b5-b633-f75493f0e9c7",
   "metadata": {},
   "source": [
    "#### Column array(String, String...)"
   ]
  },
  {
   "cell_type": "code",
   "execution_count": 3,
   "id": "6c24e6cf-7cf8-40c2-9611-8b20440d9561",
   "metadata": {},
   "outputs": [
    {
     "name": "stderr",
     "output_type": "stream",
     "text": [
      "25/03/18 23:32:27 INFO SharedState: Setting hive.metastore.warehouse.dir ('null') to the value of spark.sql.warehouse.dir.\n",
      "25/03/18 23:32:27 INFO SharedState: Warehouse path is 'file:/Users/u0r00ar/Desktop/Personal/Spark/spark-warehouse'.\n",
      "25/03/18 23:32:27 INFO CodeGenerator: Code generated in 127.994041 ms\n",
      "25/03/18 23:32:28 INFO CodeGenerator: Code generated in 3.878708 ms\n",
      "25/03/18 23:32:28 INFO CodeGenerator: Code generated in 5.858833 ms\n"
     ]
    },
    {
     "name": "stdout",
     "output_type": "stream",
     "text": [
      "+-------+----------+----------+\n",
      "|Name   |Language_1|Language_2|\n",
      "+-------+----------+----------+\n",
      "|James  |Java      |English   |\n",
      "|Michael|Python    |Spanish   |\n",
      "|Robert |Scala     |French    |\n",
      "+-------+----------+----------+\n",
      "\n"
     ]
    },
    {
     "name": "stderr",
     "output_type": "stream",
     "text": [
      "25/03/18 23:32:28 INFO CodeGenerator: Code generated in 3.375292 ms\n",
      "25/03/18 23:32:28 INFO CodeGenerator: Code generated in 9.860375 ms\n"
     ]
    },
    {
     "name": "stdout",
     "output_type": "stream",
     "text": [
      "+-------+----------+----------+----------------+\n",
      "|Name   |Language_1|Language_2|Language_1_array|\n",
      "+-------+----------+----------+----------------+\n",
      "|James  |Java      |English   |[Java]          |\n",
      "|Michael|Python    |Spanish   |[Python]        |\n",
      "|Robert |Scala     |French    |[Scala]         |\n",
      "+-------+----------+----------+----------------+\n",
      "\n",
      "+-------+----------+----------+-----------------+\n",
      "|Name   |Language_1|Language_2|Languages        |\n",
      "+-------+----------+----------+-----------------+\n",
      "|James  |Java      |English   |[Java, English]  |\n",
      "|Michael|Python    |Spanish   |[Python, Spanish]|\n",
      "|Robert |Scala     |French    |[Scala, French]  |\n",
      "+-------+----------+----------+-----------------+\n",
      "\n"
     ]
    },
    {
     "data": {
      "text/plain": [
       "\u001b[36mdata\u001b[39m: \u001b[32mSeq\u001b[39m[(\u001b[32mString\u001b[39m, \u001b[32mString\u001b[39m, \u001b[32mString\u001b[39m)] = \u001b[33mList\u001b[39m(\n",
       "  (\u001b[32m\"James\"\u001b[39m, \u001b[32m\"Java\"\u001b[39m, \u001b[32m\"English\"\u001b[39m),\n",
       "  (\u001b[32m\"Michael\"\u001b[39m, \u001b[32m\"Python\"\u001b[39m, \u001b[32m\"Spanish\"\u001b[39m),\n",
       "  (\u001b[32m\"Robert\"\u001b[39m, \u001b[32m\"Scala\"\u001b[39m, \u001b[32m\"French\"\u001b[39m)\n",
       ")\n",
       "\u001b[36mdf\u001b[39m: \u001b[32morg\u001b[39m.\u001b[32mapache\u001b[39m.\u001b[32mspark\u001b[39m.\u001b[32msql\u001b[39m.\u001b[32mpackage\u001b[39m.\u001b[32mDataFrame\u001b[39m = [Name: string, Language_1: string ... 1 more field]\n",
       "\u001b[36mdf2\u001b[39m: \u001b[32morg\u001b[39m.\u001b[32mapache\u001b[39m.\u001b[32mspark\u001b[39m.\u001b[32msql\u001b[39m.\u001b[32mpackage\u001b[39m.\u001b[32mDataFrame\u001b[39m = [Name: string, Language_1: string ... 2 more fields]\n",
       "\u001b[36mdf3\u001b[39m: \u001b[32morg\u001b[39m.\u001b[32mapache\u001b[39m.\u001b[32mspark\u001b[39m.\u001b[32msql\u001b[39m.\u001b[32mpackage\u001b[39m.\u001b[32mDataFrame\u001b[39m = [Name: string, Language_1: string ... 2 more fields]"
      ]
     },
     "execution_count": 3,
     "metadata": {},
     "output_type": "execute_result"
    }
   ],
   "source": [
    "val data = Seq(\n",
    "  (\"James\", \"Java\", \"English\"),\n",
    "  (\"Michael\", \"Python\", \"Spanish\"),\n",
    "  (\"Robert\", \"Scala\", \"French\")\n",
    ")\n",
    "\n",
    "val df = data.toDF(\"Name\", \"Language_1\", \"Language_2\")\n",
    "\n",
    "df.show(false)\n",
    "\n",
    "val df2 = df.withColumn(\"Language_1_array\", functions.array(\"Language_1\"))\n",
    "\n",
    "df2.show(false)\n",
    "\n",
    "val df3 = df.withColumn(\"Languages\", functions.array(\"Language_1\", \"Language_2\"))\n",
    "\n",
    "df3.show(false)"
   ]
  },
  {
   "cell_type": "markdown",
   "id": "7adb8019-014e-4039-b738-e07f0dfd4e30",
   "metadata": {},
   "source": [
    "#### Column array(Column...)"
   ]
  },
  {
   "cell_type": "code",
   "execution_count": 4,
   "id": "c28c0115-62b9-41cd-8ae1-dead178c650d",
   "metadata": {},
   "outputs": [
    {
     "name": "stdout",
     "output_type": "stream",
     "text": [
      "+-------+----------+----------+\n",
      "|Name   |Language_1|Language_2|\n",
      "+-------+----------+----------+\n",
      "|James  |Java      |English   |\n",
      "|Michael|Python    |Spanish   |\n",
      "|Robert |Scala     |French    |\n",
      "+-------+----------+----------+\n",
      "\n",
      "+-------+----------+----------+-----------+\n",
      "|Name   |Language_1|Language_2|empty_array|\n",
      "+-------+----------+----------+-----------+\n",
      "|James  |Java      |English   |[]         |\n",
      "|Michael|Python    |Spanish   |[]         |\n",
      "|Robert |Scala     |French    |[]         |\n",
      "+-------+----------+----------+-----------+\n",
      "\n",
      "+-------+----------+----------+----------------+\n",
      "|Name   |Language_1|Language_2|Language_1_array|\n",
      "+-------+----------+----------+----------------+\n",
      "|James  |Java      |English   |[Java]          |\n",
      "|Michael|Python    |Spanish   |[Python]        |\n",
      "|Robert |Scala     |French    |[Scala]         |\n",
      "+-------+----------+----------+----------------+\n",
      "\n",
      "+-------+----------+----------+-----------------+\n",
      "|Name   |Language_1|Language_2|Languages        |\n",
      "+-------+----------+----------+-----------------+\n",
      "|James  |Java      |English   |[Java, English]  |\n",
      "|Michael|Python    |Spanish   |[Python, Spanish]|\n",
      "|Robert |Scala     |French    |[Scala, French]  |\n",
      "+-------+----------+----------+-----------------+\n",
      "\n",
      "+-------+----------+----------+------------------------------+\n",
      "|Name   |Language_1|Language_2|Courses                       |\n",
      "+-------+----------+----------+------------------------------+\n",
      "|James  |Java      |English   |[Computer Science, Literature]|\n",
      "|Michael|Python    |Spanish   |[Computer Science, Literature]|\n",
      "|Robert |Scala     |French    |[Computer Science, Literature]|\n",
      "+-------+----------+----------+------------------------------+\n",
      "\n"
     ]
    },
    {
     "data": {
      "text/plain": [
       "\u001b[36mdata\u001b[39m: \u001b[32mSeq\u001b[39m[(\u001b[32mString\u001b[39m, \u001b[32mString\u001b[39m, \u001b[32mString\u001b[39m)] = \u001b[33mList\u001b[39m(\n",
       "  (\u001b[32m\"James\"\u001b[39m, \u001b[32m\"Java\"\u001b[39m, \u001b[32m\"English\"\u001b[39m),\n",
       "  (\u001b[32m\"Michael\"\u001b[39m, \u001b[32m\"Python\"\u001b[39m, \u001b[32m\"Spanish\"\u001b[39m),\n",
       "  (\u001b[32m\"Robert\"\u001b[39m, \u001b[32m\"Scala\"\u001b[39m, \u001b[32m\"French\"\u001b[39m)\n",
       ")\n",
       "\u001b[36mdf\u001b[39m: \u001b[32morg\u001b[39m.\u001b[32mapache\u001b[39m.\u001b[32mspark\u001b[39m.\u001b[32msql\u001b[39m.\u001b[32mpackage\u001b[39m.\u001b[32mDataFrame\u001b[39m = [Name: string, Language_1: string ... 1 more field]\n",
       "\u001b[36mdf2\u001b[39m: \u001b[32morg\u001b[39m.\u001b[32mapache\u001b[39m.\u001b[32mspark\u001b[39m.\u001b[32msql\u001b[39m.\u001b[32mpackage\u001b[39m.\u001b[32mDataFrame\u001b[39m = [Name: string, Language_1: string ... 2 more fields]\n",
       "\u001b[36mdf3\u001b[39m: \u001b[32morg\u001b[39m.\u001b[32mapache\u001b[39m.\u001b[32mspark\u001b[39m.\u001b[32msql\u001b[39m.\u001b[32mpackage\u001b[39m.\u001b[32mDataFrame\u001b[39m = [Name: string, Language_1: string ... 2 more fields]\n",
       "\u001b[36mdf4\u001b[39m: \u001b[32morg\u001b[39m.\u001b[32mapache\u001b[39m.\u001b[32mspark\u001b[39m.\u001b[32msql\u001b[39m.\u001b[32mpackage\u001b[39m.\u001b[32mDataFrame\u001b[39m = [Name: string, Language_1: string ... 2 more fields]\n",
       "\u001b[36mdf5\u001b[39m: \u001b[32morg\u001b[39m.\u001b[32mapache\u001b[39m.\u001b[32mspark\u001b[39m.\u001b[32msql\u001b[39m.\u001b[32mpackage\u001b[39m.\u001b[32mDataFrame\u001b[39m = [Name: string, Language_1: string ... 2 more fields]"
      ]
     },
     "execution_count": 4,
     "metadata": {},
     "output_type": "execute_result"
    }
   ],
   "source": [
    "val data = Seq(\n",
    "  (\"James\", \"Java\", \"English\"),\n",
    "  (\"Michael\", \"Python\", \"Spanish\"),\n",
    "  (\"Robert\", \"Scala\", \"French\")\n",
    ")\n",
    "\n",
    "val df = data.toDF(\"Name\", \"Language_1\", \"Language_2\")\n",
    "\n",
    "df.show(false)\n",
    "\n",
    "val df2 = df.withColumn(\"empty_array\", functions.array())\n",
    "\n",
    "df2.show(false)\n",
    "\n",
    "val df3 = df.withColumn(\"Language_1_array\", functions.array($\"Language_1\"))\n",
    "\n",
    "df3.show(false)\n",
    "\n",
    "val df4 = df.withColumn(\"Languages\", functions.array($\"Language_1\", $\"Language_2\"))\n",
    "\n",
    "df4.show(false)\n",
    "\n",
    "val df5 = df.withColumn(\"Courses\", functions.array(functions.lit(\"Computer Science\"), \n",
    "                                                   functions.lit(\"Literature\")))\n",
    "\n",
    "df5.show(false)"
   ]
  },
  {
   "cell_type": "code",
   "execution_count": null,
   "id": "a7a79794-119c-48bb-8a76-74ec5bfd6ee7",
   "metadata": {},
   "outputs": [],
   "source": []
  },
  {
   "cell_type": "code",
   "execution_count": null,
   "id": "89437401-e75c-4251-89d9-5b305601bf3c",
   "metadata": {},
   "outputs": [],
   "source": []
  },
  {
   "cell_type": "code",
   "execution_count": null,
   "id": "6cb073cc-7113-45d8-9c00-338fb015eda9",
   "metadata": {},
   "outputs": [],
   "source": []
  }
 ],
 "metadata": {
  "kernelspec": {
   "display_name": "Scala",
   "language": "scala",
   "name": "scala"
  },
  "language_info": {
   "codemirror_mode": "text/x-scala",
   "file_extension": ".sc",
   "mimetype": "text/x-scala",
   "name": "scala",
   "nbconvert_exporter": "script",
   "version": "2.13.16"
  }
 },
 "nbformat": 4,
 "nbformat_minor": 5
}
